{
 "cells": [
  {
   "cell_type": "code",
   "execution_count": 4,
   "id": "17a16d8f-3cc8-480d-83f4-f7b3a93a2086",
   "metadata": {},
   "outputs": [
    {
     "name": "stdout",
     "output_type": "stream",
     "text": [
      "False\n"
     ]
    }
   ],
   "source": [
    "#task_1\n",
    "def is_triangle(a, b, c):\n",
    "    values = [a, b, c]\n",
    "    sorted_values = sorted(values)\n",
    "    if sorted_values[0] + sorted_values[1] > sorted_values[2]:\n",
    "     return True\n",
    "    else:\n",
    "     return False\n",
    "\n",
    "print(is_triangle(1,2,3))\n"
   ]
  },
  {
   "cell_type": "code",
   "execution_count": 9,
   "id": "fd195125-c30f-4efc-834c-4c0a8ade46bc",
   "metadata": {},
   "outputs": [
    {
     "name": "stdin",
     "output_type": "stream",
     "text": [
      "Please pin:  78yh\n",
      "Please repeat pin:  78yh\n"
     ]
    },
    {
     "name": "stdout",
     "output_type": "stream",
     "text": [
      "Pin contains letters\n"
     ]
    }
   ],
   "source": [
    "#task_2\n",
    "def check_length(string):\n",
    "    length = len(string)\n",
    "    if length == 4 or length == 6:\n",
    "        return True\n",
    "    else:\n",
    "        return False\n",
    "\n",
    "def if_repeated_values(string):\n",
    "    for i in range(len(string)):\n",
    "      if i < len(string) - 1:\n",
    "          if string[i] == string[i+1]:\n",
    "              return True\n",
    "    return False\n",
    "\n",
    "def is_alpha(string):\n",
    " for char in string:\n",
    "     if char.isalpha():\n",
    "         return True\n",
    " return False\n",
    "\n",
    "\n",
    "pin_1 = input(\"Please pin: \").strip()    \n",
    "pin_2 = input(\"Please repeat pin: \").strip()   \n",
    "if not check_length(pin_1):\n",
    "    print(\"Incorrect length\")\n",
    "if if_repeated_values(pin_1):\n",
    "    print(\"Consecutive numbers repeated\")\n",
    "if is_alpha(pin_1):\n",
    "    print(\"Pin contains letters\")\n",
    "if pin_1 != pin_2:\n",
    "    print(\"Entered pins are not the same\")\n",
    "\n"
   ]
  },
  {
   "cell_type": "code",
   "execution_count": 25,
   "id": "ee8a98ec-d9ea-4f6f-8773-a264303bbe35",
   "metadata": {},
   "outputs": [
    {
     "name": "stdin",
     "output_type": "stream",
     "text": [
      "paper, scissors, rock?  rock\n"
     ]
    },
    {
     "name": "stdout",
     "output_type": "stream",
     "text": [
      "Computer input: rock\n"
     ]
    },
    {
     "name": "stdin",
     "output_type": "stream",
     "text": [
      "paper, scissors, rock?  rock\n"
     ]
    },
    {
     "name": "stdout",
     "output_type": "stream",
     "text": [
      "Computer input: scissors\n"
     ]
    },
    {
     "name": "stdin",
     "output_type": "stream",
     "text": [
      "paper, scissors, rock?  scissors\n"
     ]
    },
    {
     "name": "stdout",
     "output_type": "stream",
     "text": [
      "Computer input: rock\n"
     ]
    },
    {
     "name": "stdin",
     "output_type": "stream",
     "text": [
      "paper, scissors, rock?  paper\n"
     ]
    },
    {
     "name": "stdout",
     "output_type": "stream",
     "text": [
      "Computer input: paper\n"
     ]
    },
    {
     "name": "stdin",
     "output_type": "stream",
     "text": [
      "paper, scissors, rock?  paper\n"
     ]
    },
    {
     "name": "stdout",
     "output_type": "stream",
     "text": [
      "Computer input: rock\n"
     ]
    },
    {
     "name": "stdin",
     "output_type": "stream",
     "text": [
      "paper, scissors, rock?  rock\n"
     ]
    },
    {
     "name": "stdout",
     "output_type": "stream",
     "text": [
      "Computer input: rock\n"
     ]
    },
    {
     "name": "stdin",
     "output_type": "stream",
     "text": [
      "paper, scissors, rock?  rock\n"
     ]
    },
    {
     "name": "stdout",
     "output_type": "stream",
     "text": [
      "Computer input: scissors\n",
      "You won!\n"
     ]
    }
   ],
   "source": [
    "#task_3\n",
    "import random\n",
    "def winner(user_1, user_2):\n",
    " if user_1 == 'paper' and user_2 == 'paper':\n",
    "     return 0\n",
    " if user_1 == 'paper' and user_2 == 'scissors':\n",
    "     return 2\n",
    " if user_1 == 'paper' and user_2 == 'rock':\n",
    "     return 1    \n",
    " if user_1 == 'scissors' and user_2 == 'paper':\n",
    "     return 1  \n",
    " if user_1 == 'scissors' and user_2 == 'scissors':\n",
    "     return 0   \n",
    " if user_1 == 'scissors' and user_2 == 'rock':\n",
    "     return 2 \n",
    " if user_1 == 'rock' and user_2 == 'paper':\n",
    "     return 2 \n",
    " if user_1 == 'rock' and user_2 == 'scissors':\n",
    "     return 1 \n",
    " if user_1 == 'rock' and user_2 == 'rock':\n",
    "     return 0\n",
    "     \n",
    "words = ['paper', 'scissors', 'rock']\n",
    "i=0\n",
    "j=0\n",
    "while i != 3 and j != 3:\n",
    " user_input = input(\"paper, scissors, rock? \").strip() \n",
    " computer_input = random.choice(words)\n",
    " print(\"Computer input:\", computer_input) \n",
    " if winner(user_input, computer_input) == 1:\n",
    "     i +=1\n",
    " if winner(user_input, computer_input) == 2:  \n",
    "     j +=1\n",
    "\n",
    "    \n",
    "if i == 3:\n",
    "    print(\"You won!\")\n",
    "else:\n",
    "    print(\"Computer won\")\n"
   ]
  },
  {
   "cell_type": "code",
   "execution_count": 28,
   "id": "ca59cef9-de61-4d9a-bb23-79b605e37ddf",
   "metadata": {},
   "outputs": [
    {
     "name": "stdout",
     "output_type": "stream",
     "text": [
      "\n"
     ]
    }
   ],
   "source": [
    "#taks_4\n",
    "import random\n",
    "\n",
    "with open('C:\\\\Users\\\\Katia\\\\Documents\\\\tips.txt', 'r') as file:\n",
    "    lines = file.readlines()\n",
    "    random_index = random.randint(0, len(lines) - 1)\n",
    "    print(lines[random_index].strip())  "
   ]
  },
  {
   "cell_type": "code",
   "execution_count": 30,
   "id": "27963047-7582-43e9-8478-5cf176d327d7",
   "metadata": {},
   "outputs": [
    {
     "data": {
      "text/html": [
       "<div>\n",
       "<style scoped>\n",
       "    .dataframe tbody tr th:only-of-type {\n",
       "        vertical-align: middle;\n",
       "    }\n",
       "\n",
       "    .dataframe tbody tr th {\n",
       "        vertical-align: top;\n",
       "    }\n",
       "\n",
       "    .dataframe thead th {\n",
       "        text-align: right;\n",
       "    }\n",
       "</style>\n",
       "<table border=\"1\" class=\"dataframe\">\n",
       "  <thead>\n",
       "    <tr style=\"text-align: right;\">\n",
       "      <th></th>\n",
       "      <th>name</th>\n",
       "      <th>family</th>\n",
       "      <th>chocolate</th>\n",
       "      <th>regular</th>\n",
       "      <th>stinky</th>\n",
       "    </tr>\n",
       "  </thead>\n",
       "  <tbody>\n",
       "    <tr>\n",
       "      <th>0</th>\n",
       "      <td>Sylvia</td>\n",
       "      <td>Harwood</td>\n",
       "      <td>1</td>\n",
       "      <td>5</td>\n",
       "      <td>4</td>\n",
       "    </tr>\n",
       "    <tr>\n",
       "      <th>1</th>\n",
       "      <td>Ben</td>\n",
       "      <td>Morrison</td>\n",
       "      <td>2</td>\n",
       "      <td>7</td>\n",
       "      <td>1</td>\n",
       "    </tr>\n",
       "    <tr>\n",
       "      <th>2</th>\n",
       "      <td>Adam</td>\n",
       "      <td>Harwood</td>\n",
       "      <td>1</td>\n",
       "      <td>4</td>\n",
       "      <td>0</td>\n",
       "    </tr>\n",
       "    <tr>\n",
       "      <th>3</th>\n",
       "      <td>Britt</td>\n",
       "      <td>Morrison</td>\n",
       "      <td>2</td>\n",
       "      <td>7</td>\n",
       "      <td>1</td>\n",
       "    </tr>\n",
       "    <tr>\n",
       "      <th>4</th>\n",
       "      <td>Rowan</td>\n",
       "      <td>Harwood</td>\n",
       "      <td>1</td>\n",
       "      <td>4</td>\n",
       "      <td>0</td>\n",
       "    </tr>\n",
       "    <tr>\n",
       "      <th>5</th>\n",
       "      <td>Alia</td>\n",
       "      <td>Atreides</td>\n",
       "      <td>2</td>\n",
       "      <td>8</td>\n",
       "      <td>1</td>\n",
       "    </tr>\n",
       "    <tr>\n",
       "      <th>6</th>\n",
       "      <td>Ellie</td>\n",
       "      <td>Clark</td>\n",
       "      <td>3</td>\n",
       "      <td>11</td>\n",
       "      <td>2</td>\n",
       "    </tr>\n",
       "    <tr>\n",
       "      <th>7</th>\n",
       "      <td>Alan</td>\n",
       "      <td>Clark</td>\n",
       "      <td>1</td>\n",
       "      <td>6</td>\n",
       "      <td>1</td>\n",
       "    </tr>\n",
       "    <tr>\n",
       "      <th>8</th>\n",
       "      <td>Phoenix</td>\n",
       "      <td>Clark</td>\n",
       "      <td>2</td>\n",
       "      <td>8</td>\n",
       "      <td>1</td>\n",
       "    </tr>\n",
       "    <tr>\n",
       "      <th>9</th>\n",
       "      <td>Paul</td>\n",
       "      <td>Atreides</td>\n",
       "      <td>3</td>\n",
       "      <td>2</td>\n",
       "      <td>0</td>\n",
       "    </tr>\n",
       "  </tbody>\n",
       "</table>\n",
       "</div>"
      ],
      "text/plain": [
       "      name    family  chocolate  regular  stinky\n",
       "0   Sylvia   Harwood          1        5       4\n",
       "1      Ben  Morrison          2        7       1\n",
       "2     Adam   Harwood          1        4       0\n",
       "3    Britt  Morrison          2        7       1\n",
       "4    Rowan   Harwood          1        4       0\n",
       "5     Alia  Atreides          2        8       1\n",
       "6    Ellie     Clark          3       11       2\n",
       "7     Alan     Clark          1        6       1\n",
       "8  Phoenix     Clark          2        8       1\n",
       "9     Paul  Atreides          3        2       0"
      ]
     },
     "execution_count": 30,
     "metadata": {},
     "output_type": "execute_result"
    }
   ],
   "source": []
  },
  {
   "cell_type": "code",
   "execution_count": 38,
   "id": "c19816cb-2b6e-47ae-a517-801346ec817c",
   "metadata": {},
   "outputs": [],
   "source": [
    "#task_7 \n",
    "import this"
   ]
  },
  {
   "cell_type": "code",
   "execution_count": 7,
   "id": "fe9dceec-2e55-4db4-9835-8b62c5e3def3",
   "metadata": {
    "scrolled": true
   },
   "outputs": [
    {
     "name": "stdout",
     "output_type": "stream",
     "text": [
      "['the', 'zen', 'of', 'python', 'by', 'tim', 'peters', 'beautiful', 'is', 'better', 'than', 'ugly', 'explicit', 'is', 'better', 'than', 'implicit', 'simple', 'is', 'better', 'than', 'complex', 'complex', 'is', 'better', 'than', 'complicated', 'flat', 'is', 'better', 'than', 'nested', 'sparse', 'is', 'better', 'than', 'dense', 'readability', 'counts', 'special', 'cases', 'are', 'not', 'special', 'enough', 'to', 'break', 'the', 'rules', 'although', 'practicality', 'beats', 'purity', 'errors', 'should', 'never', 'pass', 'silently', 'unless', 'explicitly', 'silenced', 'in', 'the', 'face', 'of', 'ambiguity', 'refuse', 'the', 'temptation', 'to', 'guess', 'there', 'should', 'be', 'one', 'and', 'preferably', 'only', 'one', 'obvious', 'way', 'to', 'do', 'it', 'although', 'that', 'way', 'may', 'not', 'be', 'obvious', 'at', 'first', 'unless', \"you're\", 'dutch', 'now', 'is', 'better', 'than', 'never', 'although', 'never', 'is', 'often', 'better', 'than', 'right', 'now', 'if', 'the', 'implementation', 'is', 'hard', 'to', 'explain', \"it's\", 'a', 'bad', 'idea', 'if', 'the', 'implementation', 'is', 'easy', 'to', 'explain', 'it', 'may', 'be', 'a', 'good', 'idea', 'namespaces', 'are', 'one', 'honking', 'great', 'idea', \"let's\", 'do', 'more', 'of', 'those']\n",
      "['a', 'a', 'although', 'although', 'although', 'ambiguity', 'and', 'are', 'are', 'at', 'bad', 'be', 'be', 'be', 'beats', 'beautiful', 'better', 'better', 'better', 'better', 'better', 'better', 'better', 'better', 'break', 'by', 'cases', 'complex', 'complex', 'complicated', 'counts', 'dense', 'do', 'do', 'dutch', 'easy', 'enough', 'errors', 'explain', 'explain', 'explicit', 'explicitly', 'face', 'first', 'flat', 'good', 'great', 'guess', 'hard', 'honking', 'idea', 'idea', 'idea', 'if', 'if', 'implementation', 'implementation', 'implicit', 'in', 'is', 'is', 'is', 'is', 'is', 'is', 'is', 'is', 'is', 'is', 'it', 'it', \"it's\", \"let's\", 'may', 'may', 'more', 'namespaces', 'nested', 'never', 'never', 'never', 'not', 'not', 'now', 'now', 'obvious', 'obvious', 'of', 'of', 'of', 'often', 'one', 'one', 'one', 'only', 'pass', 'peters', 'practicality', 'preferably', 'purity', 'python', 'readability', 'refuse', 'right', 'rules', 'should', 'should', 'silenced', 'silently', 'simple', 'sparse', 'special', 'special', 'temptation', 'than', 'than', 'than', 'than', 'than', 'than', 'than', 'than', 'that', 'the', 'the', 'the', 'the', 'the', 'the', 'there', 'those', 'tim', 'to', 'to', 'to', 'to', 'to', 'ugly', 'unless', 'unless', 'way', 'way', \"you're\", 'zen']\n",
      "['a', 'although', 'ambiguity', 'and', 'are', 'at', 'bad', 'be', 'beats', 'beautiful', 'better', 'break', 'by', 'cases', 'complex', 'complicated', 'counts', 'dense', 'do', 'dutch', 'easy', 'enough', 'errors', 'explain', 'explicit', 'explicitly', 'face', 'first', 'flat', 'good', 'great', 'guess', 'hard', 'honking', 'idea', 'if', 'implementation', 'implicit', 'in', 'is', 'it', \"it's\", \"let's\", 'may', 'more', 'namespaces', 'nested', 'never', 'not', 'now', 'obvious', 'of', 'often', 'one', 'only', 'pass', 'peters', 'practicality', 'preferably', 'purity', 'python', 'readability', 'refuse', 'right', 'rules', 'should', 'silenced', 'silently', 'simple', 'sparse', 'special', 'temptation', 'than', 'that', 'the', 'there', 'those', 'tim', 'to', 'ugly', 'unless', 'way', \"you're\", 'zen']\n",
      "{'a': 2, 'although': 3, 'ambiguity': 1, 'and': 1, 'are': 2, 'at': 1, 'bad': 1, 'be': 3, 'beats': 1, 'beautiful': 1, 'better': 8, 'break': 1, 'by': 1, 'cases': 1, 'complex': 2, 'complicated': 1, 'counts': 1, 'dense': 1, 'do': 2, 'dutch': 1, 'easy': 1, 'enough': 1, 'errors': 1, 'explain': 2, 'explicit': 1, 'explicitly': 1, 'face': 1, 'first': 1, 'flat': 1, 'good': 1, 'great': 1, 'guess': 1, 'hard': 1, 'honking': 1, 'idea': 3, 'if': 2, 'implementation': 2, 'implicit': 1, 'in': 1, 'is': 10, 'it': 2, \"it's\": 1, \"let's\": 1, 'may': 2, 'more': 1, 'namespaces': 1, 'nested': 1, 'never': 3, 'not': 2, 'now': 2, 'obvious': 2, 'of': 3, 'often': 1, 'one': 3, 'only': 1, 'pass': 1, 'peters': 1, 'practicality': 1, 'preferably': 1, 'purity': 1, 'python': 1, 'readability': 1, 'refuse': 1, 'right': 1, 'rules': 1, 'should': 2, 'silenced': 1, 'silently': 1, 'simple': 1, 'sparse': 1, 'special': 2, 'temptation': 1, 'than': 8, 'that': 1, 'the': 6, 'there': 1, 'those': 1, 'tim': 1, 'to': 5, 'ugly': 1, 'unless': 2, 'way': 2, \"you're\": 1, 'zen': 1}\n"
     ]
    }
   ],
   "source": [
    "with open('C:\\\\Users\\\\Katia\\\\Documents\\\\zen_of_python.txt', 'r') as file:\n",
    "#part_1\n",
    "    text = file.read()\n",
    "    symbols_to_remove = ['.', ',', '*', '-', '!']\n",
    "    for symbol in symbols_to_remove:\n",
    "     text = text.replace(symbol, '')\n",
    "    text = text.replace(\"isn't\", \"is not\")\n",
    "    text = text.replace(\"aren't\", \"are not\")\n",
    "    lowercase_text = text.lower()\n",
    "    words = lowercase_text.split()\n",
    "    print(words)\n",
    "    sorted_words = sorted(words)\n",
    "    print(sorted_words)\n",
    "    sorted_words_unique_set = set(sorted_words)\n",
    "    sorted_words_unique_list = list(sorted_words_unique_set)\n",
    "    sorted_words_unique_list = sorted(sorted_words_unique_list)\n",
    "    print(sorted_words_unique_list)\n",
    "    word_counts = {}\n",
    "    for word in sorted_words:\n",
    "      if word in word_counts:\n",
    "        word_counts[word] += 1\n",
    "      else:\n",
    "        word_counts[word] = 1\n",
    "    print(word_counts)\n",
    "    "
   ]
  },
  {
   "cell_type": "code",
   "execution_count": 18,
   "id": "4653f07f-79fc-4e93-bf59-8f9b169aeeec",
   "metadata": {
    "scrolled": true
   },
   "outputs": [
    {
     "name": "stdout",
     "output_type": "stream",
     "text": [
      "2024-04-11 14:51:24 - The Zen of Python, by Tim Peters\n",
      "2024-04-11 14:51:25 - Beautiful is better than ugly.\n",
      "2024-04-11 14:51:26 - Explicit is better than implicit.\n",
      "2024-04-11 14:51:27 - Simple is better than complex.\n",
      "2024-04-11 14:51:28 - Complex is better than complicated.\n",
      "2024-04-11 14:51:29 - Flat is better than nested.\n",
      "2024-04-11 14:51:30 - Sparse is better than dense.\n",
      "2024-04-11 14:51:31 - Readability counts.\n",
      "2024-04-11 14:51:32 - Special cases aren't special enough to break the rules.\n",
      "2024-04-11 14:51:33 - Although practicality beats purity.\n",
      "2024-04-11 14:51:34 - Errors should never pass silently.\n",
      "2024-04-11 14:51:35 - Unless explicitly silenced.\n",
      "2024-04-11 14:51:36 - In the face of ambiguity, refuse the temptation to guess.\n",
      "2024-04-11 14:51:37 - There should be one-- and preferably only one --obvious way to do it.\n",
      "2024-04-11 14:51:38 - Although that way may not be obvious at first unless you're Dutch.\n",
      "2024-04-11 14:51:39 - Now is better than never.\n",
      "2024-04-11 14:51:40 - Although never is often better than right now.\n",
      "2024-04-11 14:51:41 - If the implementation is hard to explain, it's a bad idea.\n",
      "2024-04-11 14:51:42 - If the implementation is easy to explain, it may be a good idea.\n",
      "2024-04-11 14:51:43 - Namespaces are one honking great idea -- let's do more of those!\n"
     ]
    }
   ],
   "source": [
    "import datetime\n",
    "import time\n",
    "\n",
    "with open('C:\\\\Users\\\\Katia\\\\Documents\\\\zen_of_python.txt', 'r') as file:\n",
    "#part_2\n",
    "    for line in file:\n",
    "        line = line.strip()\n",
    "        if line:\n",
    "         current_time = datetime.datetime.now()\n",
    "         formatted_time = current_time.strftime(\"%Y-%m-%d %H:%M:%S\")   \n",
    "         print(f\"{formatted_time} - {line.strip()}\") \n",
    "         time.sleep(1)"
   ]
  },
  {
   "cell_type": "code",
   "execution_count": 28,
   "id": "ed91132c-2af8-46d0-9d53-3c41e4e1ae9f",
   "metadata": {},
   "outputs": [
    {
     "name": "stdout",
     "output_type": "stream",
     "text": [
      "    1 2 3 4 5 \n",
      "A   . . . . . \n",
      "B   . . . . . \n",
      "C   . . . . . \n",
      "D   . . . . . \n",
      "E   . . . . . \n"
     ]
    },
    {
     "name": "stdin",
     "output_type": "stream",
     "text": [
      "your next guess?  A2\n"
     ]
    },
    {
     "name": "stdout",
     "output_type": "stream",
     "text": [
      "    1 2 3 4 5 \n",
      "A   . x . . . \n",
      "B   . . . . . \n",
      "C   . . . . . \n",
      "D   . . . . . \n",
      "E   . . . . . \n"
     ]
    },
    {
     "name": "stdin",
     "output_type": "stream",
     "text": [
      "your next guess?  B4\n"
     ]
    },
    {
     "name": "stdout",
     "output_type": "stream",
     "text": [
      "    1 2 3 4 5 \n",
      "A   . x . . . \n",
      "B   . . . 0 . \n",
      "C   . . . . . \n",
      "D   . . . . . \n",
      "E   . . . . . \n"
     ]
    },
    {
     "name": "stdin",
     "output_type": "stream",
     "text": [
      "your next guess?  C1\n"
     ]
    },
    {
     "name": "stdout",
     "output_type": "stream",
     "text": [
      "    1 2 3 4 5 \n",
      "A   . x . . . \n",
      "B   . . . 0 . \n",
      "C   x . . . . \n",
      "D   . . . . . \n",
      "E   . . . . . \n"
     ]
    },
    {
     "name": "stdin",
     "output_type": "stream",
     "text": [
      "your next guess?  D4\n"
     ]
    },
    {
     "name": "stdout",
     "output_type": "stream",
     "text": [
      "    1 2 3 4 5 \n",
      "A   . x . . . \n",
      "B   . . . 0 . \n",
      "C   x . . . . \n",
      "D   . . . 0 . \n",
      "E   . . . . . \n"
     ]
    },
    {
     "name": "stdin",
     "output_type": "stream",
     "text": [
      "your next guess?  E5\n"
     ]
    },
    {
     "name": "stdout",
     "output_type": "stream",
     "text": [
      "    1 2 3 4 5 \n",
      "A   . x . . . \n",
      "B   . . . 0 . \n",
      "C   x . . . . \n",
      "D   . . . 0 . \n",
      "E   . . . . x \n"
     ]
    },
    {
     "name": "stdin",
     "output_type": "stream",
     "text": [
      "your next guess?  A4\n"
     ]
    },
    {
     "name": "stdout",
     "output_type": "stream",
     "text": [
      "    1 2 3 4 5 \n",
      "A   . x . x . \n",
      "B   . . . 0 . \n",
      "C   x . . . . \n",
      "D   . . . 0 . \n",
      "E   . . . . x \n"
     ]
    },
    {
     "name": "stdin",
     "output_type": "stream",
     "text": [
      "your next guess?  C1\n"
     ]
    },
    {
     "name": "stdout",
     "output_type": "stream",
     "text": [
      "    1 2 3 4 5 \n",
      "A   . x . x . \n",
      "B   . . . 0 . \n",
      "C   x . . . . \n",
      "D   . . . 0 . \n",
      "E   . . . . x \n"
     ]
    },
    {
     "name": "stdin",
     "output_type": "stream",
     "text": [
      "your next guess?  C5\n"
     ]
    },
    {
     "name": "stdout",
     "output_type": "stream",
     "text": [
      "    1 2 3 4 5 \n",
      "A   . x . x . \n",
      "B   . . . 0 . \n",
      "C   x . . . x \n",
      "D   . . . 0 . \n",
      "E   . . . . x \n"
     ]
    },
    {
     "name": "stdin",
     "output_type": "stream",
     "text": [
      "your next guess?  C3\n"
     ]
    },
    {
     "name": "stdout",
     "output_type": "stream",
     "text": [
      "    1 2 3 4 5 \n",
      "A   . x . x . \n",
      "B   . . . 0 . \n",
      "C   x . x . x \n",
      "D   . . . 0 . \n",
      "E   . . . . x \n"
     ]
    },
    {
     "name": "stdin",
     "output_type": "stream",
     "text": [
      "your next guess?  B1\n"
     ]
    },
    {
     "name": "stdout",
     "output_type": "stream",
     "text": [
      "    1 2 3 4 5 \n",
      "A   . x . x . \n",
      "B   0 . . 0 . \n",
      "C   x . x . x \n",
      "D   . . . 0 . \n",
      "E   . . . . x \n"
     ]
    },
    {
     "name": "stdin",
     "output_type": "stream",
     "text": [
      "your next guess?  E4\n"
     ]
    },
    {
     "name": "stdout",
     "output_type": "stream",
     "text": [
      "    1 2 3 4 5 \n",
      "A   . x . x . \n",
      "B   0 . . 0 . \n",
      "C   x . x . x \n",
      "D   . . . 0 . \n",
      "E   . . . 0 x \n"
     ]
    }
   ],
   "source": [
    "#task_6\n",
    "def mapping_user_inputs(string):\n",
    "   if string[0] == 'A':\n",
    "       result_1 = 0\n",
    "   elif string[0] == 'B':\n",
    "       result_1 = 1\n",
    "   elif string[0] == 'C':\n",
    "       result_1 = 2\n",
    "   elif string[0] == 'D':\n",
    "       result_1 = 3\n",
    "   elif string[0] == 'E':\n",
    "       result_1 = 4\n",
    "   return result_1, int(string[1])-1\n",
    "\n",
    "import numpy as np\n",
    "import random\n",
    "\n",
    "# Create a 5x5 board initialized with \".\"\n",
    "board = np.full((5, 5), \".\")\n",
    "\n",
    "# Add 10 zeros to the board\n",
    "count_zeros = 0\n",
    "while count_zeros < 10:\n",
    "    row = random.randint(0, 4)\n",
    "    col = random.randint(0, 4)\n",
    "    if board[row, col] == \".\":\n",
    "        board[row, col] = 0\n",
    "        count_zeros += 1\n",
    "\n",
    "# Define X-axis and Y-axis labels\n",
    "x_labels = ['1', '2', '3', '4', '5']\n",
    "y_labels = ['A', 'B', 'C', 'D', 'E']\n",
    "\n",
    "# Uncomment below if you want to print generated board with lables\n",
    "#print(\"    \", end=\"\")\n",
    "#for label in x_labels:\n",
    "#    print(label, end=\" \")\n",
    "#print()\n",
    "\n",
    "#for i, row in enumerate(board):\n",
    "#    print(y_labels[i], end=\"   \")\n",
    "#    for val in row:\n",
    "#        print(val, end=\" \")\n",
    "#    print()\n",
    "\n",
    "board_to_show = np.full((5,5), \".\")\n",
    "\n",
    "print(\"    \", end=\"\")\n",
    "for label in x_labels:\n",
    "    print(label, end=\" \")\n",
    "print()\n",
    "\n",
    "for i, row in enumerate(board_to_show):\n",
    "    print(y_labels[i], end=\"   \")\n",
    "    for val in row:\n",
    "        print(val, end=\" \")\n",
    "    print()\n",
    "\n",
    "total_guess = 0\n",
    "while total_guess < 11:\n",
    " user_input = input(\"your next guess? \").strip() \n",
    " row_number, column_number =  mapping_user_inputs(user_input)\n",
    " if board[row_number, column_number] == '0':\n",
    "    board_to_show[row_number, column_number] = 0\n",
    " else:\n",
    "    board_to_show[row_number, column_number] = \"x\" \n",
    " print(\"    \", end=\"\")\n",
    " for label in x_labels:\n",
    "    print(label, end=\" \")\n",
    " print()\n",
    "\n",
    " for i, row in enumerate(board_to_show):\n",
    "    print(y_labels[i], end=\"   \")\n",
    "    for val in row:\n",
    "        print(val, end=\" \")\n",
    "    print()\n",
    " total_guess += 1\n",
    "\n",
    "    "
   ]
  },
  {
   "cell_type": "code",
   "execution_count": 31,
   "id": "c274f996-63fd-494a-9bd0-5166df1f61a2",
   "metadata": {},
   "outputs": [
    {
     "data": {
      "text/html": [
       "<div>\n",
       "<style scoped>\n",
       "    .dataframe tbody tr th:only-of-type {\n",
       "        vertical-align: middle;\n",
       "    }\n",
       "\n",
       "    .dataframe tbody tr th {\n",
       "        vertical-align: top;\n",
       "    }\n",
       "\n",
       "    .dataframe thead th {\n",
       "        text-align: right;\n",
       "    }\n",
       "</style>\n",
       "<table border=\"1\" class=\"dataframe\">\n",
       "  <thead>\n",
       "    <tr style=\"text-align: right;\">\n",
       "      <th></th>\n",
       "      <th>name</th>\n",
       "      <th>family</th>\n",
       "      <th>chocolate</th>\n",
       "      <th>regular</th>\n",
       "      <th>stinky</th>\n",
       "    </tr>\n",
       "  </thead>\n",
       "  <tbody>\n",
       "    <tr>\n",
       "      <th>0</th>\n",
       "      <td>Sylvia</td>\n",
       "      <td>Harwood</td>\n",
       "      <td>1</td>\n",
       "      <td>5</td>\n",
       "      <td>4</td>\n",
       "    </tr>\n",
       "    <tr>\n",
       "      <th>1</th>\n",
       "      <td>Ben</td>\n",
       "      <td>Morrison</td>\n",
       "      <td>2</td>\n",
       "      <td>7</td>\n",
       "      <td>1</td>\n",
       "    </tr>\n",
       "    <tr>\n",
       "      <th>2</th>\n",
       "      <td>Adam</td>\n",
       "      <td>Harwood</td>\n",
       "      <td>1</td>\n",
       "      <td>4</td>\n",
       "      <td>0</td>\n",
       "    </tr>\n",
       "    <tr>\n",
       "      <th>3</th>\n",
       "      <td>Britt</td>\n",
       "      <td>Morrison</td>\n",
       "      <td>2</td>\n",
       "      <td>7</td>\n",
       "      <td>1</td>\n",
       "    </tr>\n",
       "    <tr>\n",
       "      <th>4</th>\n",
       "      <td>Rowan</td>\n",
       "      <td>Harwood</td>\n",
       "      <td>1</td>\n",
       "      <td>4</td>\n",
       "      <td>0</td>\n",
       "    </tr>\n",
       "    <tr>\n",
       "      <th>5</th>\n",
       "      <td>Alia</td>\n",
       "      <td>Atreides</td>\n",
       "      <td>2</td>\n",
       "      <td>8</td>\n",
       "      <td>1</td>\n",
       "    </tr>\n",
       "    <tr>\n",
       "      <th>6</th>\n",
       "      <td>Ellie</td>\n",
       "      <td>Clark</td>\n",
       "      <td>3</td>\n",
       "      <td>11</td>\n",
       "      <td>2</td>\n",
       "    </tr>\n",
       "    <tr>\n",
       "      <th>7</th>\n",
       "      <td>Alan</td>\n",
       "      <td>Clark</td>\n",
       "      <td>1</td>\n",
       "      <td>6</td>\n",
       "      <td>1</td>\n",
       "    </tr>\n",
       "    <tr>\n",
       "      <th>8</th>\n",
       "      <td>Phoenix</td>\n",
       "      <td>Clark</td>\n",
       "      <td>2</td>\n",
       "      <td>8</td>\n",
       "      <td>1</td>\n",
       "    </tr>\n",
       "    <tr>\n",
       "      <th>9</th>\n",
       "      <td>Paul</td>\n",
       "      <td>Atreides</td>\n",
       "      <td>3</td>\n",
       "      <td>2</td>\n",
       "      <td>0</td>\n",
       "    </tr>\n",
       "  </tbody>\n",
       "</table>\n",
       "</div>"
      ],
      "text/plain": [
       "      name    family  chocolate  regular  stinky\n",
       "0   Sylvia   Harwood          1        5       4\n",
       "1      Ben  Morrison          2        7       1\n",
       "2     Adam   Harwood          1        4       0\n",
       "3    Britt  Morrison          2        7       1\n",
       "4    Rowan   Harwood          1        4       0\n",
       "5     Alia  Atreides          2        8       1\n",
       "6    Ellie     Clark          3       11       2\n",
       "7     Alan     Clark          1        6       1\n",
       "8  Phoenix     Clark          2        8       1\n",
       "9     Paul  Atreides          3        2       0"
      ]
     },
     "execution_count": 31,
     "metadata": {},
     "output_type": "execute_result"
    }
   ],
   "source": [
    "#task_5\n",
    "import pandas as pd\n",
    "df = pd.read_csv('C:\\\\Users\\\\Katia\\\\Documents\\\\egghunt.csv')\n",
    "df.head(10)"
   ]
  },
  {
   "cell_type": "code",
   "execution_count": 32,
   "id": "a444e0c0-84cc-46e9-8e9f-f5f7eae77a94",
   "metadata": {},
   "outputs": [],
   "source": [
    "df['total_points'] = df['chocolate']*3 + df['regular']"
   ]
  },
  {
   "cell_type": "code",
   "execution_count": 37,
   "id": "e6ca4f6c-e054-4e68-8052-92d14308e33a",
   "metadata": {},
   "outputs": [
    {
     "data": {
      "text/html": [
       "<div>\n",
       "<style scoped>\n",
       "    .dataframe tbody tr th:only-of-type {\n",
       "        vertical-align: middle;\n",
       "    }\n",
       "\n",
       "    .dataframe tbody tr th {\n",
       "        vertical-align: top;\n",
       "    }\n",
       "\n",
       "    .dataframe thead th {\n",
       "        text-align: right;\n",
       "    }\n",
       "</style>\n",
       "<table border=\"1\" class=\"dataframe\">\n",
       "  <thead>\n",
       "    <tr style=\"text-align: right;\">\n",
       "      <th></th>\n",
       "      <th>name</th>\n",
       "      <th>family</th>\n",
       "      <th>chocolate</th>\n",
       "      <th>regular</th>\n",
       "      <th>stinky</th>\n",
       "      <th>total_points</th>\n",
       "    </tr>\n",
       "  </thead>\n",
       "  <tbody>\n",
       "    <tr>\n",
       "      <th>0</th>\n",
       "      <td>Sylvia</td>\n",
       "      <td>Harwood</td>\n",
       "      <td>1</td>\n",
       "      <td>5</td>\n",
       "      <td>4</td>\n",
       "      <td>8</td>\n",
       "    </tr>\n",
       "    <tr>\n",
       "      <th>1</th>\n",
       "      <td>Ben</td>\n",
       "      <td>Morrison</td>\n",
       "      <td>2</td>\n",
       "      <td>7</td>\n",
       "      <td>1</td>\n",
       "      <td>13</td>\n",
       "    </tr>\n",
       "    <tr>\n",
       "      <th>2</th>\n",
       "      <td>Adam</td>\n",
       "      <td>Harwood</td>\n",
       "      <td>1</td>\n",
       "      <td>4</td>\n",
       "      <td>0</td>\n",
       "      <td>7</td>\n",
       "    </tr>\n",
       "    <tr>\n",
       "      <th>3</th>\n",
       "      <td>Britt</td>\n",
       "      <td>Morrison</td>\n",
       "      <td>2</td>\n",
       "      <td>7</td>\n",
       "      <td>1</td>\n",
       "      <td>13</td>\n",
       "    </tr>\n",
       "    <tr>\n",
       "      <th>4</th>\n",
       "      <td>Rowan</td>\n",
       "      <td>Harwood</td>\n",
       "      <td>1</td>\n",
       "      <td>4</td>\n",
       "      <td>0</td>\n",
       "      <td>7</td>\n",
       "    </tr>\n",
       "    <tr>\n",
       "      <th>5</th>\n",
       "      <td>Alia</td>\n",
       "      <td>Atreides</td>\n",
       "      <td>2</td>\n",
       "      <td>8</td>\n",
       "      <td>1</td>\n",
       "      <td>14</td>\n",
       "    </tr>\n",
       "    <tr>\n",
       "      <th>6</th>\n",
       "      <td>Ellie</td>\n",
       "      <td>Clark</td>\n",
       "      <td>3</td>\n",
       "      <td>11</td>\n",
       "      <td>2</td>\n",
       "      <td>20</td>\n",
       "    </tr>\n",
       "    <tr>\n",
       "      <th>7</th>\n",
       "      <td>Alan</td>\n",
       "      <td>Clark</td>\n",
       "      <td>1</td>\n",
       "      <td>6</td>\n",
       "      <td>1</td>\n",
       "      <td>9</td>\n",
       "    </tr>\n",
       "    <tr>\n",
       "      <th>8</th>\n",
       "      <td>Phoenix</td>\n",
       "      <td>Clark</td>\n",
       "      <td>2</td>\n",
       "      <td>8</td>\n",
       "      <td>1</td>\n",
       "      <td>14</td>\n",
       "    </tr>\n",
       "    <tr>\n",
       "      <th>9</th>\n",
       "      <td>Paul</td>\n",
       "      <td>Atreides</td>\n",
       "      <td>3</td>\n",
       "      <td>2</td>\n",
       "      <td>0</td>\n",
       "      <td>11</td>\n",
       "    </tr>\n",
       "  </tbody>\n",
       "</table>\n",
       "</div>"
      ],
      "text/plain": [
       "      name    family  chocolate  regular  stinky  total_points\n",
       "0   Sylvia   Harwood          1        5       4             8\n",
       "1      Ben  Morrison          2        7       1            13\n",
       "2     Adam   Harwood          1        4       0             7\n",
       "3    Britt  Morrison          2        7       1            13\n",
       "4    Rowan   Harwood          1        4       0             7\n",
       "5     Alia  Atreides          2        8       1            14\n",
       "6    Ellie     Clark          3       11       2            20\n",
       "7     Alan     Clark          1        6       1             9\n",
       "8  Phoenix     Clark          2        8       1            14\n",
       "9     Paul  Atreides          3        2       0            11"
      ]
     },
     "execution_count": 37,
     "metadata": {},
     "output_type": "execute_result"
    }
   ],
   "source": [
    "df.head(20)"
   ]
  },
  {
   "cell_type": "code",
   "execution_count": 34,
   "id": "27812cee-6d88-494e-9715-75e671c97e95",
   "metadata": {},
   "outputs": [
    {
     "name": "stdout",
     "output_type": "stream",
     "text": [
      "name            Ellie\n",
      "family          Clark\n",
      "chocolate           3\n",
      "regular            11\n",
      "stinky              2\n",
      "total_points       20\n",
      "Name: 6, dtype: object\n"
     ]
    }
   ],
   "source": [
    "#a\n",
    "top_row = df.loc[df['total_points'].idxmax()]\n",
    "print(top_row)"
   ]
  },
  {
   "cell_type": "code",
   "execution_count": 35,
   "id": "4aa9a742-3c92-4c12-950a-0e6542f0d98e",
   "metadata": {},
   "outputs": [
    {
     "name": "stdout",
     "output_type": "stream",
     "text": [
      "18\n"
     ]
    }
   ],
   "source": [
    "#b\n",
    "chocolate_eggs_sum = df['chocolate'].sum()\n",
    "print(chocolate_eggs_sum)"
   ]
  },
  {
   "cell_type": "code",
   "execution_count": 39,
   "id": "82f010b8-1d88-4761-887f-5e225871007c",
   "metadata": {},
   "outputs": [
    {
     "name": "stdout",
     "output_type": "stream",
     "text": [
      "      name  total_points\n",
      "0   Sylvia             8\n",
      "1      Ben            13\n",
      "2     Adam             7\n",
      "3    Britt            13\n",
      "4    Rowan             7\n",
      "5     Alia            14\n",
      "6    Ellie            20\n",
      "7     Alan             9\n",
      "8  Phoenix            14\n",
      "9     Paul            11\n"
     ]
    }
   ],
   "source": [
    "#c\n",
    "individual_result = df[['name', 'total_points']]\n",
    "print(individual_result)"
   ]
  },
  {
   "cell_type": "code",
   "execution_count": 38,
   "id": "803f87d3-e2d9-4732-b734-09a1ea065011",
   "metadata": {},
   "outputs": [
    {
     "name": "stdout",
     "output_type": "stream",
     "text": [
      "family\n",
      "Atreides    25\n",
      "Clark       43\n",
      "Harwood     22\n",
      "Morrison    26\n",
      "Name: total_points, dtype: int64\n"
     ]
    }
   ],
   "source": [
    "#d\n",
    "result = df.groupby('family')['total_points'].sum()\n",
    "print(result)"
   ]
  },
  {
   "cell_type": "code",
   "execution_count": 40,
   "id": "20b90bf0-676d-45b6-9548-49e5bf6dbde3",
   "metadata": {},
   "outputs": [
    {
     "name": "stdout",
     "output_type": "stream",
     "text": [
      "Collecting openpyxl\n",
      "  Downloading openpyxl-3.1.2-py2.py3-none-any.whl.metadata (2.5 kB)\n",
      "Collecting et-xmlfile (from openpyxl)\n",
      "  Downloading et_xmlfile-1.1.0-py3-none-any.whl.metadata (1.8 kB)\n",
      "Downloading openpyxl-3.1.2-py2.py3-none-any.whl (249 kB)\n",
      "   ---------------------------------------- 0.0/250.0 kB ? eta -:--:--\n",
      "   - -------------------------------------- 10.2/250.0 kB ? eta -:--:--\n",
      "   ------ -------------------------------- 41.0/250.0 kB 495.5 kB/s eta 0:00:01\n",
      "   --------------------------- ------------ 174.1/250.0 kB 1.5 MB/s eta 0:00:01\n",
      "   ---------------------------------------- 250.0/250.0 kB 1.7 MB/s eta 0:00:00\n",
      "Downloading et_xmlfile-1.1.0-py3-none-any.whl (4.7 kB)\n",
      "Installing collected packages: et-xmlfile, openpyxl\n",
      "Successfully installed et-xmlfile-1.1.0 openpyxl-3.1.2\n"
     ]
    }
   ],
   "source": [
    "!pip install openpyxl"
   ]
  },
  {
   "cell_type": "code",
   "execution_count": 42,
   "id": "a7ca44be-cd24-4c3c-85f1-ac83ba2b9776",
   "metadata": {},
   "outputs": [
    {
     "name": "stdout",
     "output_type": "stream",
     "text": [
      "Results have been written to C:\\Users\\Katia\\Documents\\result.xlsx\n"
     ]
    }
   ],
   "source": [
    "import pandas as pd\n",
    "individual_result = result.reset_index()\n",
    "\n",
    "excel_file_path = 'C:\\\\Users\\\\Katia\\\\Documents\\\\result.xlsx'\n",
    "\n",
    "individual_result.to_excel(excel_file_path, index=False)\n",
    "\n",
    "print(f\"Results have been written to {excel_file_path}\")"
   ]
  },
  {
   "cell_type": "code",
   "execution_count": null,
   "id": "63417ec1-c500-4508-bd91-f35fdf00f8d0",
   "metadata": {},
   "outputs": [],
   "source": []
  }
 ],
 "metadata": {
  "kernelspec": {
   "display_name": "Python 3 (ipykernel)",
   "language": "python",
   "name": "python3"
  },
  "language_info": {
   "codemirror_mode": {
    "name": "ipython",
    "version": 3
   },
   "file_extension": ".py",
   "mimetype": "text/x-python",
   "name": "python",
   "nbconvert_exporter": "python",
   "pygments_lexer": "ipython3",
   "version": "3.11.8"
  }
 },
 "nbformat": 4,
 "nbformat_minor": 5
}
