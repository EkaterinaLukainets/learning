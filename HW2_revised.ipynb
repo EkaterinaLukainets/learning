{
 "cells": [
  {
   "cell_type": "code",
   "execution_count": 4,
   "id": "9e58e2ba-2da1-4fb3-bcd1-f4daeb750a65",
   "metadata": {},
   "outputs": [
    {
     "name": "stdin",
     "output_type": "stream",
     "text": [
      "Please provide string: Alice in wonderland\n"
     ]
    },
    {
     "name": "stdout",
     "output_type": "stream",
     "text": [
      "dnalrednow ni ecilA\n"
     ]
    }
   ],
   "source": [
    "#task 1\n",
    "string = input(\"Please provide string:\").strip()\n",
    "reversed_string = string[::-1]\n",
    "print(reversed_string)"
   ]
  },
  {
   "cell_type": "code",
   "execution_count": 6,
   "id": "3a083cc5-8bf3-421d-8f87-8e3154368bde",
   "metadata": {},
   "outputs": [
    {
     "name": "stdout",
     "output_type": "stream",
     "text": [
      "Number of words: 4\n",
      "['Alice', 'in', 'wonderland', 'sleeps']\n"
     ]
    }
   ],
   "source": [
    "#task 2\n",
    "with open(\"C:\\\\Users\\\\oluki\\\\Documents\\\\task_2.txt\", \"r\") as file:\n",
    " string = file.read()\n",
    " words = string.split()\n",
    " word_count = len(words)\n",
    "\n",
    "print(\"Number of words:\", word_count)"
   ]
  },
  {
   "cell_type": "code",
   "execution_count": 24,
   "id": "17919639-d39d-44f9-b3c9-4ccec1a30b1a",
   "metadata": {},
   "outputs": [
    {
     "name": "stdin",
     "output_type": "stream",
     "text": [
      "Please provide string:  f gghgf\n"
     ]
    },
    {
     "name": "stdout",
     "output_type": "stream",
     "text": [
      "True\n"
     ]
    }
   ],
   "source": [
    "#task 3\n",
    "def duplicatedChars(string):\n",
    "    flag = 0\n",
    "    words = string.split()\n",
    "    for word in words:\n",
    "        unique_chars_set = {char for char in word}\n",
    "        if len(unique_chars_set) < len(word):\n",
    "            flag = 1\n",
    "            return True \n",
    "    return False \n",
    "        \n",
    "string = input(\"Please provide string: \").strip()\n",
    "print(duplicatedChars(string))"
   ]
  },
  {
   "cell_type": "code",
   "execution_count": 26,
   "id": "fb75ebad-46d9-43fc-9c23-1411411c78b8",
   "metadata": {},
   "outputs": [
    {
     "name": "stdin",
     "output_type": "stream",
     "text": [
      "Please provide string:  word\n"
     ]
    },
    {
     "name": "stdout",
     "output_type": "stream",
     "text": [
      "1\n"
     ]
    }
   ],
   "source": [
    "#task 4\n",
    "def numberOfVowels(word):\n",
    "    word = word.lower()\n",
    "    vowels='aeiouy'\n",
    "    count = 0\n",
    "    for char in word:\n",
    "        if char in vowels:\n",
    "            count += 1\n",
    "    return(count)\n",
    "\n",
    "string = input(\"Please provide string: \").strip()\n",
    "print(numberOfVowels(string))\n"
   ]
  },
  {
   "cell_type": "code",
   "execution_count": 32,
   "id": "a7ec46cd-92ea-4030-add2-9168487f5e25",
   "metadata": {},
   "outputs": [
    {
     "name": "stdin",
     "output_type": "stream",
     "text": [
      "Please provide string:  heeadio\n"
     ]
    },
    {
     "name": "stdout",
     "output_type": "stream",
     "text": [
      "{'a': 1, 'e': 2, 'i': 1, 'o': 1}\n"
     ]
    }
   ],
   "source": [
    "#task 5\n",
    "def numberOfEachVowel(string):\n",
    "    dictionary = { 'a' : 0, 'e' : 0, 'i' : 0, 'o' : 0, 'u' : 0, 'y' : 0} \n",
    "    string = string.lower()\n",
    "    for char in string:\n",
    "        if dictionary.get(char) != None:\n",
    "         count=dictionary.get(char) \n",
    "         dictionary[char] = count + 1\n",
    "\n",
    "    new_dictionary = {}\n",
    "    for key, value in dictionary.items():\n",
    "     if value != 0:\n",
    "      new_dictionary[key] = value\n",
    "    return new_dictionary\n",
    "\n",
    "string = input(\"Please provide string: \").strip() \n",
    "print(numberOfEachVowel(string))"
   ]
  },
  {
   "cell_type": "code",
   "execution_count": 39,
   "id": "51d7a7a8-a8cd-4706-9aa2-5cd980e528a2",
   "metadata": {},
   "outputs": [
    {
     "name": "stdout",
     "output_type": "stream",
     "text": [
      "love\n",
      "cake\n",
      "sun\n",
      "soul\n",
      "three\n",
      "seven\n",
      "{'love': {'e': 1, 'o': 1}, 'cake': {'a': 1, 'e': 1}, 'sun': {'u': 1}, 'soul': {'o': 1, 'u': 1}, 'three': {'e': 2}, 'seven': {'e': 2}}\n"
     ]
    }
   ],
   "source": [
    "#task 6\n",
    "import csv\n",
    "\n",
    "def numberOfVowelsForEachWord(file):   \n",
    "    with open(file, newline='') as csvfile:\n",
    "        reader = csv.reader(csvfile)\n",
    "        output_dictionary = {}  \n",
    "        for row in reader:\n",
    "         \n",
    "            for value in row:\n",
    "                print(value)\n",
    "                new_dictionary = numberOfEachVowel(value)\n",
    "                output_dictionary[value] = new_dictionary       \n",
    "        print(output_dictionary)\n",
    "    with open(\"C:\\\\Users\\\\oluki\\\\Documents\\\\output_task_6.txt\", 'w') as file:\n",
    "        file.write(str(output_dictionary)) \n",
    "\n",
    "numberOfVowelsForEachWord(\"C:\\\\Users\\\\oluki\\\\Documents\\\\task_6.csv\")\n"
   ]
  },
  {
   "cell_type": "code",
   "execution_count": 51,
   "id": "2daf00f1-6c31-4863-ab5b-e8a1a7f81010",
   "metadata": {},
   "outputs": [
    {
     "name": "stdin",
     "output_type": "stream",
     "text": [
      "Please provide string:  help me\n"
     ]
    },
    {
     "name": "stdout",
     "output_type": "stream",
     "text": [
      ".... . .-.. .--./-- ./\n"
     ]
    }
   ],
   "source": [
    "def morse(string):\n",
    "    morseMapping = { 'a' : '.-', 'b' : '-...', 'c' : '-.-.', 'd' : '-..', 'e' : '.', 'f' : '..-.', 'g' : '--.', 'h' : '....', 'i' : '..',\n",
    "                'j' : '.---', 'k' : '-.-', 'l' : '.-..', 'm' : '--', 'n' : '-.', 'o' : '---', 'p' : '.--.', 'q' : '--.-',\n",
    "                 'r' : '.-.', 's' : '...', 't' : '-', 'u' : '..-', 'v' : '...-', 'w' : '.--', 'x' : '-..-', 'y' : '-.--', 'z' : '--..',\n",
    "                '1' : '.----', '2' : '..---', '3' : '...--', '4' : '....-', '5' : '.....','6' : '-....', '7' : '--...', '8' : '---..', \n",
    "                '9' : '----.', '0' : '-----', ' ' : ' '} \n",
    "\n",
    "    string = string.lower()\n",
    "    words = string.split()\n",
    "    newString = ''\n",
    "    for word in words:\n",
    "        for char in word:\n",
    "         for key, value in morseMapping.items():\n",
    "          if char == key:\n",
    "           newString += value + ' ' \n",
    "         #  newString += ' '\n",
    "        newString = newString[:-1]\n",
    "        newString += '/'\n",
    "    return newString\n",
    "\n",
    "string = input(\"Please provide string: \").strip()  \n",
    "print(morse(string))"
   ]
  },
  {
   "cell_type": "code",
   "execution_count": null,
   "id": "e051ba26-f9be-402d-9159-88d352d6d512",
   "metadata": {},
   "outputs": [],
   "source": []
  }
 ],
 "metadata": {
  "kernelspec": {
   "display_name": "Python 3 (ipykernel)",
   "language": "python",
   "name": "python3"
  },
  "language_info": {
   "codemirror_mode": {
    "name": "ipython",
    "version": 3
   },
   "file_extension": ".py",
   "mimetype": "text/x-python",
   "name": "python",
   "nbconvert_exporter": "python",
   "pygments_lexer": "ipython3",
   "version": "3.12.0"
  }
 },
 "nbformat": 4,
 "nbformat_minor": 5
}
