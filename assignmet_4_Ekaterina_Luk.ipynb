{
 "cells": [
  {
   "cell_type": "code",
   "execution_count": 17,
   "id": "186de03b-51f1-4915-8f7f-76ed0f24765f",
   "metadata": {},
   "outputs": [
    {
     "name": "stdout",
     "output_type": "stream",
     "text": [
      "Beata - compensation 5000\n",
      "Jarek - compensation 5000\n",
      "Ania - compensation 6000\n",
      "Mateusz - compensation 6000\n",
      "Marian - compensation 10000\n"
     ]
    }
   ],
   "source": [
    "#task_6\n",
    "import csv\n",
    "from datetime import datetime, timedelta\n",
    "\n",
    "def calculateFullYears(date):\n",
    "    today = datetime.now()\n",
    "    fullYears = today.year - date.year - ((today.month, today.day) < (date.month, date.day))\n",
    "    return fullYears\n",
    "\n",
    "\n",
    "with open('C:\\\\Users\\\\Katia\\\\Documents\\\\6_input.csv', newline='') as csvfile:\n",
    "    csvreader = csv.DictReader(csvfile)   \n",
    "    for row in csvreader:\n",
    "     dateStr = row['Date of employment']\n",
    "     date = datetime.strptime(dateStr, '%Y-%m-%d')\n",
    "     fullYears = calculateFullYears(date)\n",
    "     if fullYears >= 5:\n",
    "        print(row['Name'], '- compensation', fullYears*1000)"
   ]
  },
  {
   "cell_type": "code",
   "execution_count": 15,
   "id": "49bbcdfd-d792-4523-8825-bfb225a45acc",
   "metadata": {},
   "outputs": [
    {
     "name": "stdout",
     "output_type": "stream",
     "text": [
      "Beata - compensation 5000\n",
      "Jarek - compensation 5000\n",
      "Ania - compensation 6000\n",
      "Mateusz - compensation 6000\n",
      "Marian - compensation 10000\n"
     ]
    }
   ],
   "source": [
    "#task_5\n",
    "import csv\n",
    "\n",
    "with open('C:\\\\Users\\\\Katia\\\\Documents\\\\5_input.csv', newline='') as csvfile:\n",
    "    csvreader = csv.DictReader(csvfile)   \n",
    "    for row in csvreader:\n",
    "     years = int(row['Duration of employment in years'])\n",
    "     if years >= 5:\n",
    "        print(row['Name'], '- compensation', int(row['Duration of employment in years'])*1000)"
   ]
  },
  {
   "cell_type": "code",
   "execution_count": 27,
   "id": "5980fdaa-291d-4301-b875-b0194988eed4",
   "metadata": {},
   "outputs": [
    {
     "name": "stdout",
     "output_type": "stream",
     "text": [
      "[{1: 'A'}, {2: 'B'}, {3: 'J'}, {4: 'A'}, {5: 'M'}, {6: 'A'}, {7: 'P'}, {8: 'M'}, {9: 'A'}, {10: 'M'}]\n"
     ]
    }
   ],
   "source": [
    "#task_4\n",
    "from typing import List, Dict, Any\n",
    "\n",
    "employees: List[Dict[str, Any]] = [\n",
    "\n",
    "{'Id': 1, 'Name': 'Adam', 'Department': 'Management', 'Salary': 10000},\n",
    "\n",
    "{'Id': 2, 'Name': 'Beata', 'Department': 'Management', 'Salary': 12000},\n",
    "\n",
    "{'Id': 3, 'Name': 'Jarek', 'Department': 'Kitchen', 'Salary': 7000},\n",
    "\n",
    "{'Id': 4, 'Name': 'Agnieszka', 'Department': 'House Floor', 'Salary': 8500},\n",
    "\n",
    "{'Id': 5, 'Name': 'Marek', 'Department': 'House Floor', 'Salary': 11200},\n",
    "\n",
    "{'Id': 6, 'Name': 'Ania', 'Department': 'Kitchen', 'Salary': 9300},\n",
    "\n",
    "{'Id': 7, 'Name': 'Piotr', 'Department': 'Management', 'Salary': 15100},\n",
    "\n",
    "{'Id': 8, 'Name': 'Mateusz', 'Department': 'Cashier', 'Salary': 18000},\n",
    "\n",
    "{'Id': 9, 'Name': 'Agata', 'Department': 'Management', 'Salary': 16400},\n",
    "\n",
    "{'Id': 10, 'Name': 'Marian', 'Department': 'Cashier', 'Salary': 11000},\n",
    "\n",
    "]\n",
    "\n",
    "employeeId = []\n",
    "for employee in employees:\n",
    "    employeeId.append({ employee['Id']: employee['Name'][0]})\n",
    "print(employeeId)"
   ]
  },
  {
   "cell_type": "code",
   "execution_count": 30,
   "id": "ff98ad58-b41a-4f56-936f-968c00f12118",
   "metadata": {},
   "outputs": [
    {
     "name": "stdout",
     "output_type": "stream",
     "text": [
      "In department: Management working now 4 persons ['Adam', 'Beata', 'Piotr', 'Agata']\n"
     ]
    }
   ],
   "source": [
    "#task_3\n",
    "employees: List[Dict[str, Any]] = [\n",
    "\n",
    "{'Id': 1, 'Name': 'Adam', 'Department': 'Management', 'Salary': 10000},\n",
    "\n",
    "{'Id': 2, 'Name': 'Beata', 'Department': 'Management', 'Salary': 12000},\n",
    "\n",
    "{'Id': 3, 'Name': 'Jarek', 'Department': 'Kitchen', 'Salary': 7000},\n",
    "\n",
    "{'Id': 4, 'Name': 'Agnieszka', 'Department': 'House Floor', 'Salary': 8500},\n",
    "\n",
    "{'Id': 5, 'Name': 'Marek', 'Department': 'House Floor', 'Salary': 11200},\n",
    "\n",
    "{'Id': 6, 'Name': 'Ania', 'Department': 'Kitchen', 'Salary': 9300},\n",
    "\n",
    "{'Id': 7, 'Name': 'Piotr', 'Department': 'Management', 'Salary': 15100},\n",
    "\n",
    "{'Id': 8, 'Name': 'Mateusz', 'Department': 'Cashier', 'Salary': 18000},\n",
    "\n",
    "{'Id': 9, 'Name': 'Agata', 'Department': 'Management', 'Salary': 16400},\n",
    "\n",
    "{'Id': 10, 'Name': 'Marian', 'Department': 'Cashier', 'Salary': 11000},\n",
    "\n",
    "]\n",
    "\n",
    "management = []\n",
    "count = 0\n",
    "for employee in employees:\n",
    "    if employee['Department']=='Management':\n",
    "     management.append(employee['Name'])\n",
    "     count += 1\n",
    "print('In department: Management working now', count, 'persons', management)"
   ]
  },
  {
   "cell_type": "code",
   "execution_count": 32,
   "id": "74588713-1886-4a1f-87fe-09b4bffd8d5a",
   "metadata": {},
   "outputs": [
    {
     "name": "stdout",
     "output_type": "stream",
     "text": [
      "Salaries greater than mean salary: 11850.0\n",
      "name: Beata - salary 12000\n",
      "name: Piotr - salary 15100\n",
      "name: Mateusz - salary 18000\n",
      "name: Agata - salary 16400\n"
     ]
    }
   ],
   "source": [
    "#task_2\n",
    "name_to_salary_dictionary = {\n",
    "\n",
    "    'Adam': 10000,\n",
    "\n",
    "    'Beata': 12000,\n",
    "\n",
    "    'Jarek': 7000,\n",
    "\n",
    "    'Agnieszka': 8500,\n",
    "\n",
    "    'Marek': 11200,\n",
    "\n",
    "    'Ania': 9300,\n",
    "\n",
    "    'Piotr': 15100,\n",
    "\n",
    "    'Mateusz': 18000,\n",
    "\n",
    "    'Agata': 16400,\n",
    "\n",
    "    'Marian': 11000\n",
    "\n",
    "}\n",
    "\n",
    "salaries = name_to_salary_dictionary.values()\n",
    "meanSalary = sum(salaries) / len(salaries)\n",
    "print('Salaries greater than mean salary:', meanSalary)\n",
    "for name, salary in name_to_salary_dictionary.items():\n",
    "    if salary > meanSalary:\n",
    "        print('name:', name, '- salary', salary)\n",
    "\n"
   ]
  },
  {
   "cell_type": "code",
   "execution_count": 35,
   "id": "bb07da50-24ff-48f6-acc6-6ec13610ef2e",
   "metadata": {},
   "outputs": [
    {
     "name": "stdout",
     "output_type": "stream",
     "text": [
      "[18000, 16400, 15100]\n"
     ]
    }
   ],
   "source": [
    "#task_1\n",
    "salaries = [10000, 12000, 7000, 8500, 11200, 9300, 15100, 18000, 16400, 11000]\n",
    "maxSalaries=[]\n",
    "for _ in range(3):\n",
    " maxSalary = max(salaries)\n",
    " while maxSalary in salaries:\n",
    "    salaries.remove(maxSalary)\n",
    " maxSalaries.append(maxSalary)\n",
    "print(maxSalaries)    "
   ]
  },
  {
   "cell_type": "code",
   "execution_count": null,
   "id": "a9dda5c7-9920-4d6e-a6d4-c6acb2c34388",
   "metadata": {},
   "outputs": [],
   "source": []
  }
 ],
 "metadata": {
  "kernelspec": {
   "display_name": "Python 3 (ipykernel)",
   "language": "python",
   "name": "python3"
  },
  "language_info": {
   "codemirror_mode": {
    "name": "ipython",
    "version": 3
   },
   "file_extension": ".py",
   "mimetype": "text/x-python",
   "name": "python",
   "nbconvert_exporter": "python",
   "pygments_lexer": "ipython3",
   "version": "3.11.8"
  }
 },
 "nbformat": 4,
 "nbformat_minor": 5
}
