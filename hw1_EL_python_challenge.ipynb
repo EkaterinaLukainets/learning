{
 "cells": [
  {
   "cell_type": "code",
   "execution_count": 12,
   "id": "bfa74995-3420-491b-bc91-a81dac101eaf",
   "metadata": {},
   "outputs": [
    {
     "name": "stdout",
     "output_type": "stream",
     "text": [
      "1\n",
      "2\n",
      "number-is-divisible-by-three,3-Fizz\n",
      "4\n",
      "number-is-divisible-by-five,5-Buzz\n",
      "number-is-divisible-by-three,6-Fizz\n",
      "7\n",
      "8\n",
      "number-is-divisible-by-three,9-Fizz\n",
      "number-is-divisible-by-five,10-Buzz\n",
      "11\n",
      "number-is-divisible-by-three,12-Fizz\n",
      "13\n",
      "14\n",
      "15-FizzBuzz\n",
      "16\n",
      "17\n",
      "number-is-divisible-by-three,18-Fizz\n",
      "19\n",
      "number-is-divisible-by-five,20-Buzz\n",
      "number-is-divisible-by-three,21-Fizz\n",
      "22\n",
      "23\n",
      "number-is-divisible-by-three,24-Fizz\n",
      "number-is-divisible-by-five,25-Buzz\n",
      "26\n",
      "number-is-divisible-by-three,27-Fizz\n",
      "28\n",
      "29\n",
      "30-FizzBuzz\n",
      "31\n",
      "32\n",
      "number-is-divisible-by-three,33-Fizz\n",
      "34\n",
      "number-is-divisible-by-five,35-Buzz\n",
      "number-is-divisible-by-three,36-Fizz\n",
      "37\n",
      "38\n",
      "number-is-divisible-by-three,39-Fizz\n",
      "number-is-divisible-by-five,40-Buzz\n",
      "41\n",
      "number-is-divisible-by-three,42-Fizz\n",
      "43\n",
      "44\n",
      "45-FizzBuzz\n",
      "46\n",
      "47\n",
      "number-is-divisible-by-three,48-Fizz\n",
      "49\n",
      "number-is-divisible-by-five,50-Buzz\n",
      "number-is-divisible-by-three,51-Fizz\n",
      "52\n",
      "53\n",
      "number-is-divisible-by-three,54-Fizz\n",
      "number-is-divisible-by-five,55-Buzz\n",
      "56\n",
      "number-is-divisible-by-three,57-Fizz\n",
      "58\n",
      "59\n",
      "60-FizzBuzz\n",
      "61\n",
      "62\n",
      "number-is-divisible-by-three,63-Fizz\n",
      "64\n",
      "number-is-divisible-by-five,65-Buzz\n",
      "number-is-divisible-by-three,66-Fizz\n",
      "67\n",
      "68\n",
      "number-is-divisible-by-three,69-Fizz\n",
      "number-is-divisible-by-five,70-Buzz\n",
      "71\n",
      "number-is-divisible-by-three,72-Fizz\n",
      "73\n",
      "74\n",
      "75-FizzBuzz\n",
      "76\n",
      "77\n",
      "number-is-divisible-by-three,78-Fizz\n",
      "79\n",
      "number-is-divisible-by-five,80-Buzz\n",
      "number-is-divisible-by-three,81-Fizz\n",
      "82\n",
      "83\n",
      "number-is-divisible-by-three,84-Fizz\n",
      "number-is-divisible-by-five,85-Buzz\n",
      "86\n",
      "number-is-divisible-by-three,87-Fizz\n",
      "88\n",
      "89\n",
      "90-FizzBuzz\n",
      "91\n",
      "92\n",
      "number-is-divisible-by-three,93-Fizz\n",
      "94\n",
      "number-is-divisible-by-five,95-Buzz\n",
      "number-is-divisible-by-three,96-Fizz\n",
      "97\n",
      "98\n",
      "number-is-divisible-by-three,99-Fizz\n",
      "number-is-divisible-by-five,100-Buzz\n"
     ]
    }
   ],
   "source": [
    "def FizzBuzz():\n",
    " for i in range(1,101):\n",
    "     if i % 15 == 0:\n",
    "       print(f\"{i}-FizzBuzz\")  \n",
    "     elif i % 3 == 0:\n",
    "      print(f\"number-is-divisible-by-three,{i}-Fizz\")\n",
    "     elif i % 5 == 0:\n",
    "      print(f\"number-is-divisible-by-five,{i}-Buzz\")\n",
    "     else:\n",
    "      print(i)\n",
    "\n",
    "FizzBuzz()"
   ]
  },
  {
   "cell_type": "code",
   "execution_count": 18,
   "id": "3762b493-cadb-4fca-bb60-3739fac05a04",
   "metadata": {},
   "outputs": [
    {
     "name": "stdin",
     "output_type": "stream",
     "text": [
      "Please provide you name: kk\n",
      "Please provide you email adress: ddkk\n"
     ]
    },
    {
     "name": "stdout",
     "output_type": "stream",
     "text": [
      "Whoops! It looks like your email doesn’t meet following requirements: email doesn't start with name\n",
      "Whoops! It looks like your email doesn’t meet following requirements: email doesn't end with '@ubs.com'\n",
      "Whoops! It looks like your email doesn’t meet following requirements: '_' is missing in the email\n"
     ]
    },
    {
     "name": "stdin",
     "output_type": "stream",
     "text": [
      "Please provide you name: Kat\n",
      "Please provide you email adress: kat_@ubs.com\n"
     ]
    },
    {
     "name": "stdout",
     "output_type": "stream",
     "text": [
      "Thank you!\n"
     ]
    }
   ],
   "source": [
    "def containsNumbers(string):\n",
    "    return any(char.isdigit() for char in string)\n",
    "def endswith(string):\n",
    "    if email[-8:] != string: return True\n",
    "    else: return False\n",
    "    \n",
    "while 1:\n",
    "    name=input(\"Please provide you name:\").strip()\n",
    "    email=input(\"Please provide you email adress:\").strip()\n",
    "    flag=0\n",
    "    lenName=len(name)\n",
    "    if containsNumbers(name) == True:\n",
    "        flag = 1\n",
    "        print(\"Whoops! It looks like your name doesn’t meet following requirements: it contains numbers\")\n",
    "    if len(name) > 15:\n",
    "        flag = 1\n",
    "        print(\"Whoops! It looks like your name doesn’t meet following requirements: it is too long\")\n",
    "    if email[:lenName].lower() != name.lower():\n",
    "        flag = 1\n",
    "        print(\"Whoops! It looks like your email doesn’t meet following requirements: email doesn't start with name\")\n",
    "    if email.islower() == False:\n",
    "        flag = 1\n",
    "        print(\"Whoops! It looks like your email doesn’t meet following requirements: email contains not only lower case charecters\")\n",
    "    if endswith(\"@ubs.com\"):\n",
    "        flag = 1\n",
    "        print(\"Whoops! It looks like your email doesn’t meet following requirements: email doesn't end with '@ubs.com'\")\n",
    "    if (\"_\" in email) == False:\n",
    "        flag = 1\n",
    "        print(\"Whoops! It looks like your email doesn’t meet following requirements: '_' is missing in the email\")\n",
    "    if (\" \" in email) == True:\n",
    "        flag = 1\n",
    "        print(\"Whoops! It looks like your email doesn’t meet following requirements: ' ' is in the email\")   \n",
    "    elif flag == 0:\n",
    "        print(\"Thank you!\")\n",
    "        break\n",
    "        "
   ]
  },
  {
   "cell_type": "code",
   "execution_count": 36,
   "id": "808942c9-9629-4563-a21e-2d4af0d29bf8",
   "metadata": {},
   "outputs": [
    {
     "name": "stdin",
     "output_type": "stream",
     "text": [
      "enter a: 100\n",
      "enter b: 50\n"
     ]
    },
    {
     "name": "stdout",
     "output_type": "stream",
     "text": [
      "50\n"
     ]
    }
   ],
   "source": [
    "a=int(input(\"enter a:\")) \n",
    "b=int(input(\"enter b:\"))\n",
    "while a != b:\n",
    " if a > b and b != 0:\n",
    "  a = a - b\n",
    " if b > a and a != 0:\n",
    "  b = b - a  \n",
    " if a == 0 or b == 0:\n",
    "  print(0)\n",
    "  break\n",
    "if a == b:\n",
    " print(a)\n"
   ]
  },
  {
   "cell_type": "code",
   "execution_count": null,
   "id": "9a64fa60-41b1-400e-9434-f78340088e40",
   "metadata": {},
   "outputs": [],
   "source": []
  }
 ],
 "metadata": {
  "kernelspec": {
   "display_name": "Python 3 (ipykernel)",
   "language": "python",
   "name": "python3"
  },
  "language_info": {
   "codemirror_mode": {
    "name": "ipython",
    "version": 3
   },
   "file_extension": ".py",
   "mimetype": "text/x-python",
   "name": "python",
   "nbconvert_exporter": "python",
   "pygments_lexer": "ipython3",
   "version": "3.12.0"
  }
 },
 "nbformat": 4,
 "nbformat_minor": 5
}
