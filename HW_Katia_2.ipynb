{
 "cells": [
  {
   "cell_type": "code",
   "execution_count": 18,
   "id": "e52f4f10-da40-4a8b-9840-a3ce86c40d2f",
   "metadata": {},
   "outputs": [
    {
     "name": "stdin",
     "output_type": "stream",
     "text": [
      "Please provide string: Alice in wonderland\n"
     ]
    },
    {
     "name": "stdout",
     "output_type": "stream",
     "text": [
      "dnalrednow ni ecilA"
     ]
    }
   ],
   "source": [
    "#task 1\n",
    "string = input(\"Please provide string:\").strip()\n",
    "length = len(string)\n",
    "for i in range(length - 1,-1, -1):\n",
    "    character = string[i]\n",
    "    print(character, end = '')\n",
    "    \n",
    "    \n",
    " "
   ]
  },
  {
   "cell_type": "code",
   "execution_count": 96,
   "id": "6e6ff317-50d2-4e63-9eea-33ca185337ee",
   "metadata": {},
   "outputs": [
    {
     "name": "stdin",
     "output_type": "stream",
     "text": [
      "Please provide string:  A cro is green\n"
     ]
    },
    {
     "name": "stdout",
     "output_type": "stream",
     "text": [
      "True 11 e e\n",
      "True\n"
     ]
    }
   ],
   "source": [
    "#task 3\n",
    "string = input(\"Please provide string: \").strip()\n",
    "length = len(string)\n",
    "i = 0\n",
    "flag = 0\n",
    "\n",
    "while i < length and flag == 0:\n",
    "    if string[i] != ' ':\n",
    "        for j in range(i + 1, length):  \n",
    "            if string[j] != ' ':\n",
    "                if string[i] == string[j]:\n",
    "                    flag = 1\n",
    "                    print(f\"True {i} {string[i]} {string[j]}\")\n",
    "                    break\n",
    "            else: \n",
    "             break\n",
    "        i += 1 \n",
    "    else:\n",
    "        i += 1\n",
    "\n",
    "if flag == 0:\n",
    "    print('False')\n",
    "else:\n",
    "    print('True') "
   ]
  },
  {
   "cell_type": "code",
   "execution_count": 109,
   "id": "afa48e50-8e92-4332-93ee-7eb0c49635cc",
   "metadata": {},
   "outputs": [
    {
     "name": "stdout",
     "output_type": "stream",
     "text": [
      "4\n",
      "Alice in wonderland sleeps\n"
     ]
    }
   ],
   "source": [
    "#task 2\n",
    "with open(\"C:\\\\Users\\\\oluki\\\\Documents\\\\task_2.txt\", \"r\") as file:\n",
    " string = file.read()\n",
    " string = string.strip()   \n",
    "length = len(string)\n",
    "i = 0\n",
    "if length != 0:\n",
    " count = 1\n",
    "else:\n",
    " count = 0  \n",
    "while i < length:\n",
    "    if string[i] == ' ' and string[i-1] != ' ':\n",
    "        count += 1\n",
    "        i += 1\n",
    "    else: \n",
    "     i += 1\n",
    "print(count)\n",
    "print(string)"
   ]
  },
  {
   "cell_type": "code",
   "execution_count": null,
   "id": "501763f2-a454-437a-a190-3b131d325e86",
   "metadata": {},
   "outputs": [],
   "source": []
  }
 ],
 "metadata": {
  "kernelspec": {
   "display_name": "Python 3 (ipykernel)",
   "language": "python",
   "name": "python3"
  },
  "language_info": {
   "codemirror_mode": {
    "name": "ipython",
    "version": 3
   },
   "file_extension": ".py",
   "mimetype": "text/x-python",
   "name": "python",
   "nbconvert_exporter": "python",
   "pygments_lexer": "ipython3",
   "version": "3.12.0"
  }
 },
 "nbformat": 4,
 "nbformat_minor": 5
}
