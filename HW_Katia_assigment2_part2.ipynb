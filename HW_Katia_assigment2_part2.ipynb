{
 "cells": [
  {
   "cell_type": "code",
   "execution_count": 6,
   "id": "915c5532-10d2-4b30-b517-8d6e03bd819f",
   "metadata": {},
   "outputs": [
    {
     "name": "stdin",
     "output_type": "stream",
     "text": [
      "Please provide string:  vowels\n"
     ]
    },
    {
     "name": "stdout",
     "output_type": "stream",
     "text": [
      "2\n"
     ]
    }
   ],
   "source": [
    "#task 4\n",
    "def is_vowel(char):\n",
    "    vowels='aeiouy'\n",
    "    if char in vowels:\n",
    "     return True\n",
    "    else:\n",
    "     return False   \n",
    "\n",
    "string = input(\"Please provide string: \").strip()    \n",
    "length = len(string)\n",
    "count = 0\n",
    "for i in range(length):\n",
    " if is_vowel(string[i]):\n",
    "  count += 1\n",
    "print(count) "
   ]
  },
  {
   "cell_type": "code",
   "execution_count": 10,
   "id": "91a4b5c6-bf2c-49fb-b643-5b19c5f270b2",
   "metadata": {},
   "outputs": [
    {
     "name": "stdin",
     "output_type": "stream",
     "text": [
      "Please provide string:  aeijfnaaae\n"
     ]
    },
    {
     "name": "stdout",
     "output_type": "stream",
     "text": [
      "{'a': 4, 'e': 2, 'i': 1}\n"
     ]
    }
   ],
   "source": [
    "#task 5 \n",
    "countA = 0\n",
    "countE = 0\n",
    "countI = 0\n",
    "countO = 0\n",
    "countU = 0\n",
    "countY = 0\n",
    "dictionary = { 'a' : countA, 'e' : countE, 'i' : countI, 'o' : countO, 'u' : countU, 'y' : countY} \n",
    "\n",
    "string = input(\"Please provide string: \").strip()    \n",
    "length = len(string)\n",
    "\n",
    "for i in range(length):\n",
    " if dictionary.get(string[i]) != None:\n",
    "  count=dictionary.get(string[i]) \n",
    "  dictionary[string[i]] = count + 1\n",
    "\n",
    "new_dictionary = {}\n",
    "for key, value in dictionary.items():\n",
    "    if value != 0:\n",
    "     new_dictionary[key] = value\n",
    "print(new_dictionary)        \n",
    "\n"
   ]
  },
  {
   "cell_type": "code",
   "execution_count": 34,
   "id": "3ce67c74-941a-4809-8f8b-8b0c588876ee",
   "metadata": {},
   "outputs": [
    {
     "name": "stdout",
     "output_type": "stream",
     "text": [
      "banana\n",
      "vowel\n",
      "green\n",
      "red\n",
      "white\n",
      "yety\n",
      "{'banana': {'a': 3}, 'vowel': {'e': 1, 'o': 1}, 'green': {'e': 2}, 'red': {'e': 1}, 'white': {'e': 1, 'i': 1}, 'yety': {'e': 1, 'y': 2}}\n"
     ]
    }
   ],
   "source": [
    "#task 6\n",
    "import csv\n",
    "\n",
    "with open(\"C:\\\\Users\\\\oluki\\\\Documents\\\\task_6.csv\", newline='') as csvfile:\n",
    "    reader = csv.reader(csvfile)\n",
    "    output_dictionary = {}  \n",
    "    for row in reader:\n",
    "         \n",
    "        for value in row:\n",
    "            print(value)\n",
    "            countA = 0\n",
    "            countE = 0\n",
    "            countI = 0\n",
    "            countO = 0\n",
    "            countU = 0\n",
    "            countY = 0\n",
    "            dictionary = { 'a' : countA, 'e' : countE, 'i' : countI, 'o' : countO, 'u' : countU, 'y' : countY} \n",
    "            length = len(value)\n",
    "            for i in range(length):\n",
    "                if dictionary.get(value[i]) != None:\n",
    "                    count=dictionary.get(value[i]) \n",
    "                    dictionary[value[i]] = count + 1\n",
    "            #print(dictionary)\n",
    "            new_dictionary = {}\n",
    "            for key, count in dictionary.items():\n",
    "                if count != 0:\n",
    "                    new_dictionary[key] = count\n",
    "            output_dictionary[value] = new_dictionary       \n",
    "    print(output_dictionary)\n",
    "with open(\"C:\\\\Users\\\\oluki\\\\Documents\\\\output_task_6.txt\", 'w') as file:\n",
    "    file.write(str(output_dictionary))         \n"
   ]
  },
  {
   "cell_type": "code",
   "execution_count": 42,
   "id": "a0d0563b-31c3-43a9-a70d-b40b58c2027c",
   "metadata": {},
   "outputs": [
    {
     "name": "stdin",
     "output_type": "stream",
     "text": [
      "Please provide string:  help\n"
     ]
    },
    {
     "name": "stdout",
     "output_type": "stream",
     "text": [
      "......-...--.\n"
     ]
    }
   ],
   "source": [
    "morseMapping = { 'a' : '.-', 'b' : '-...', 'c' : '-.-.', 'd' : '-..', 'e' : '.', 'f' : '..-.', 'g' : '--.', 'h' : '....', 'i' : '..',\n",
    "                'j' : '.---', 'k' : '-.-', 'l' : '.-..', 'm' : '--', 'n' : '-.', 'o' : '---', 'p' : '.--.', 'q' : '--.-',\n",
    "                 'r' : '.-.', 's' : '...', 't' : '-', 'u' : '..-', 'v' : '...-', 'w' : '.--', 'x' : '-..-', 'y' : '-.--', 'z' : '--..',\n",
    "                '1' : '.----', '2' : '..---', '3' : '...--', '4' : '....-', '5' : '.....','6' : '-....', '7' : '--...', '8' : '---..', \n",
    "                '9' : '----.', '0' : '-----', ' ' : ' '} \n",
    "\n",
    "string = input(\"Please provide string: \").strip()    \n",
    "length = len(string)\n",
    "newString = ''\n",
    "for i in range(length):\n",
    "    for key, value in morseMapping.items():\n",
    "     if string[i] == key:\n",
    "      newString += value\n",
    "print(newString)"
   ]
  },
  {
   "cell_type": "code",
   "execution_count": null,
   "id": "db083df5-22fa-4950-90dc-a3444fe955c2",
   "metadata": {},
   "outputs": [],
   "source": []
  }
 ],
 "metadata": {
  "kernelspec": {
   "display_name": "Python 3 (ipykernel)",
   "language": "python",
   "name": "python3"
  },
  "language_info": {
   "codemirror_mode": {
    "name": "ipython",
    "version": 3
   },
   "file_extension": ".py",
   "mimetype": "text/x-python",
   "name": "python",
   "nbconvert_exporter": "python",
   "pygments_lexer": "ipython3",
   "version": "3.12.0"
  }
 },
 "nbformat": 4,
 "nbformat_minor": 5
}
